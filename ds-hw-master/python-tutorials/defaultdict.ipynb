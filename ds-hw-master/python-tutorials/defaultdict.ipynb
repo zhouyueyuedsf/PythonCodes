{
 "cells": [
  {
   "cell_type": "markdown",
   "metadata": {},
   "source": [
    "# Python default dictionary vs dictionary\n",
    "\n",
    "This notebook motivates and explains why python has default dictionaries\n",
    "\n",
    "Read more here: https://docs.python.org/3/library/collections.html#collections.defaultdict\n",
    "\n"
   ]
  },
  {
   "cell_type": "markdown",
   "metadata": {},
   "source": [
    "Suppose you have a list of tuples where each one has a string key and integer value. Your task is to sum all the values which have the same key"
   ]
  },
  {
   "cell_type": "code",
   "execution_count": 1,
   "metadata": {
    "collapsed": true
   },
   "outputs": [],
   "source": [
    "data = [\n",
    "    ('california', 1),\n",
    "    ('california', 3),\n",
    "    ('colorado', 0),\n",
    "    ('colorado', 10),\n",
    "    ('washington', 2),\n",
    "    ('washington', 4)\n",
    "]"
   ]
  },
  {
   "cell_type": "markdown",
   "metadata": {},
   "source": [
    "With an ordinary dictionary, I would need to check if they key exists. If it doesn't I need to initialize it with a value. For instrutional purposes I will call the `int()` function which will return the default value for an integer which is 0. "
   ]
  },
  {
   "cell_type": "code",
   "execution_count": 5,
   "metadata": {
    "collapsed": false
   },
   "outputs": [
    {
     "ename": "KeyError",
     "evalue": "'california'",
     "output_type": "error",
     "traceback": [
      "\u001b[0;31m---------------------------------------------------------------------------\u001b[0m",
      "\u001b[0;31mKeyError\u001b[0m                                  Traceback (most recent call last)",
      "\u001b[0;32m<ipython-input-5-4e6a9bdea217>\u001b[0m in \u001b[0;36m<module>\u001b[0;34m()\u001b[0m\n\u001b[1;32m      4\u001b[0m \u001b[0;32mfor\u001b[0m \u001b[0mrow\u001b[0m \u001b[0;32min\u001b[0m \u001b[0mdata\u001b[0m\u001b[0;34m:\u001b[0m\u001b[0;34m\u001b[0m\u001b[0m\n\u001b[1;32m      5\u001b[0m     \u001b[0mkey\u001b[0m\u001b[0;34m,\u001b[0m \u001b[0mvalue\u001b[0m \u001b[0;34m=\u001b[0m \u001b[0mrow\u001b[0m \u001b[0;31m# destructure the tuple\u001b[0m\u001b[0;34m\u001b[0m\u001b[0m\n\u001b[0;32m----> 6\u001b[0;31m     \u001b[0msummed\u001b[0m\u001b[0;34m[\u001b[0m\u001b[0mkey\u001b[0m\u001b[0;34m]\u001b[0m \u001b[0;34m=\u001b[0m \u001b[0msummed\u001b[0m\u001b[0;34m[\u001b[0m\u001b[0mkey\u001b[0m\u001b[0;34m]\u001b[0m \u001b[0;34m+\u001b[0m \u001b[0mvalue\u001b[0m\u001b[0;34m\u001b[0m\u001b[0m\n\u001b[0m",
      "\u001b[0;31mKeyError\u001b[0m: 'california'"
     ]
    }
   ],
   "source": [
    "# This won't work because I haven't initialized keys\n",
    "\n",
    "summed = dict()\n",
    "for row in data:\n",
    "    key, value = row # destructure the tuple\n",
    "    summed[key] = summed[key] + value"
   ]
  },
  {
   "cell_type": "markdown",
   "metadata": {},
   "source": [
    "As expected, the first time we try to set the value for california, it doesn't exist in the dictionary so the right handside of the equal sign errors. Thats easy to fix like this"
   ]
  },
  {
   "cell_type": "code",
   "execution_count": 22,
   "metadata": {
    "collapsed": false
   },
   "outputs": [],
   "source": [
    "summed = dict()\n",
    "for row in data:\n",
    "    key, value = row\n",
    "    if key not in summed:\n",
    "        summed[key] = int()\n",
    "        \n",
    "    summed[key] = summed[key] + value"
   ]
  },
  {
   "cell_type": "code",
   "execution_count": 23,
   "metadata": {
    "collapsed": false
   },
   "outputs": [
    {
     "data": {
      "text/plain": [
       "{'california': 4, 'colorado': 10, 'washington': 6}"
      ]
     },
     "execution_count": 23,
     "metadata": {},
     "output_type": "execute_result"
    }
   ],
   "source": [
    "summed"
   ]
  },
  {
   "cell_type": "markdown",
   "metadata": {},
   "source": [
    "Lets see one more example that instead of summing the numbers we wan't to collect everything into a list. So lets replace int() with list() since we wan't to make an empty list. We also need to change the summing term to use append instead"
   ]
  },
  {
   "cell_type": "code",
   "execution_count": 24,
   "metadata": {
    "collapsed": false
   },
   "outputs": [],
   "source": [
    "merged = dict()\n",
    "for row in data:\n",
    "    key, value = row\n",
    "    if key not in merged:\n",
    "        merged[key] = list()\n",
    "    \n",
    "    merged[key].append(value)"
   ]
  },
  {
   "cell_type": "code",
   "execution_count": 25,
   "metadata": {
    "collapsed": false
   },
   "outputs": [
    {
     "data": {
      "text/plain": [
       "{'california': [1, 3], 'colorado': [0, 10], 'washington': [2, 4]}"
      ]
     },
     "execution_count": 25,
     "metadata": {},
     "output_type": "execute_result"
    }
   ],
   "source": [
    "merged"
   ]
  },
  {
   "cell_type": "markdown",
   "metadata": {},
   "source": [
    "Its inconvenient to do this check every time so python has a nice way to make this pattern simpler. This is what `collections.defaultdict` was designed for. It does the following:\n",
    "\n",
    "1. Takes a single argument which is a function which we will call `func`\n",
    "2. When a key is accessed (for example with `merged[key]`, check if it exists. If it doesn't, instead of erroring initialize it to the return of `func` then proceed as normal\n",
    "\n",
    "Lets see both examples from above using this"
   ]
  },
  {
   "cell_type": "code",
   "execution_count": 26,
   "metadata": {
    "collapsed": true
   },
   "outputs": [],
   "source": [
    "from collections import defaultdict"
   ]
  },
  {
   "cell_type": "code",
   "execution_count": 27,
   "metadata": {
    "collapsed": true
   },
   "outputs": [],
   "source": [
    "summed = defaultdict(int)\n",
    "for row in data:\n",
    "    key, value = row\n",
    "    summed[key] = summed[key] + value"
   ]
  },
  {
   "cell_type": "code",
   "execution_count": 28,
   "metadata": {
    "collapsed": false
   },
   "outputs": [
    {
     "data": {
      "text/plain": [
       "defaultdict(int, {'california': 4, 'colorado': 10, 'washington': 6})"
      ]
     },
     "execution_count": 28,
     "metadata": {},
     "output_type": "execute_result"
    }
   ],
   "source": [
    "summed"
   ]
  },
  {
   "cell_type": "code",
   "execution_count": 29,
   "metadata": {
    "collapsed": true
   },
   "outputs": [],
   "source": [
    "merged = defaultdict(list)\n",
    "for row in data:\n",
    "    key, value = row\n",
    "    merged[key].append(value)"
   ]
  },
  {
   "cell_type": "code",
   "execution_count": 30,
   "metadata": {
    "collapsed": false
   },
   "outputs": [
    {
     "data": {
      "text/plain": [
       "defaultdict(list,\n",
       "            {'california': [1, 3], 'colorado': [0, 10], 'washington': [2, 4]})"
      ]
     },
     "execution_count": 30,
     "metadata": {},
     "output_type": "execute_result"
    }
   ],
   "source": [
    "merged"
   ]
  },
  {
   "cell_type": "code",
   "execution_count": 31,
   "metadata": {
    "collapsed": true
   },
   "outputs": [],
   "source": [
    "def myinit():\n",
    "    return -100\n",
    "\n",
    "summed = defaultdict(myinit)\n",
    "for row in data:\n",
    "    key, value = row\n",
    "    summed[key] += value"
   ]
  },
  {
   "cell_type": "code",
   "execution_count": 32,
   "metadata": {
    "collapsed": false
   },
   "outputs": [
    {
     "data": {
      "text/plain": [
       "defaultdict(<function __main__.myinit>,\n",
       "            {'california': -96, 'colorado': -90, 'washington': -94})"
      ]
     },
     "execution_count": 32,
     "metadata": {},
     "output_type": "execute_result"
    }
   ],
   "source": [
    "summed"
   ]
  },
  {
   "cell_type": "markdown",
   "metadata": {},
   "source": [
    "As expected, the results are exactly the same, and it is based on the initial method you pass it. This function is called a factory method since each time a key needs to be initialized you can imagine that the function acts as a factory which creates new values. Lets cover one of the common mistakes with default dictionaries before concluding. The source of this mistake is that any time a non-existent key is accessed its initialized."
   ]
  },
  {
   "cell_type": "code",
   "execution_count": 52,
   "metadata": {
    "collapsed": false
   },
   "outputs": [
    {
     "name": "stdout",
     "output_type": "stream",
     "text": [
      "pedro in dictionary: False\n",
      "jordan in dictionary: False\n"
     ]
    }
   ],
   "source": [
    "d = defaultdict(str)\n",
    "\n",
    "# initially this is empty so all of these should be false\n",
    "print('pedro in dictionary:', 'pedro' in d)\n",
    "print('jordan in dictionary:', 'jordan' in d)"
   ]
  },
  {
   "cell_type": "code",
   "execution_count": 53,
   "metadata": {
    "collapsed": false
   },
   "outputs": [
    {
     "name": "stdout",
     "output_type": "stream",
     "text": [
      "jordan is in dictionary: True\n",
      "pedro is in dictionary: False\n"
     ]
    }
   ],
   "source": [
    "# Lets set something in the dictionary now and check that again\n",
    "\n",
    "d['jordan'] = 'professor'\n",
    "\n",
    "print('jordan is in dictionary:', 'jordan' in d)\n",
    "print('pedro is in dictionary:', 'pedro' in d)"
   ]
  },
  {
   "cell_type": "code",
   "execution_count": 54,
   "metadata": {
    "collapsed": false
   },
   "outputs": [
    {
     "name": "stdout",
     "output_type": "stream",
     "text": [
      "pedro is in dictionary: True\n",
      "defaultdict(<class 'str'>, {'jordan': 'professor', 'pedro': ''})\n",
      "-->  <-- <class 'str'>\n"
     ]
    }
   ],
   "source": [
    "# Lets accidentally access 'pedro' before setting it then see what happens\n",
    "\n",
    "pedro_job = d['pedro']\n",
    "\n",
    "print('pedro is in dictionary:', 'pedro' in d)\n",
    "print(d)\n",
    "print('-->', d['pedro'], '<--', type(d['pedro']))"
   ]
  },
  {
   "cell_type": "markdown",
   "metadata": {},
   "source": [
    "So this is odd! You never set a key (only accessed it), but nonetheless pedro is in the dictionary. This is because when the 'pedro' key was accessed and not there, python set it to the return of `str` which returns an empty string. Lets set this to the real value and be done"
   ]
  },
  {
   "cell_type": "code",
   "execution_count": 55,
   "metadata": {
    "collapsed": false
   },
   "outputs": [
    {
     "name": "stdout",
     "output_type": "stream",
     "text": [
      "pedro is in dictionary: True\n",
      "defaultdict(<class 'str'>, {'jordan': 'professor', 'pedro': 'PhD Student'})\n",
      "--> PhD Student <-- <class 'str'>\n"
     ]
    }
   ],
   "source": [
    "d['pedro'] = 'PhD Student'\n",
    "\n",
    "print('pedro is in dictionary:', 'pedro' in d)\n",
    "print(d)\n",
    "print('-->', d['pedro'], '<--', type(d['pedro']))"
   ]
  },
  {
   "cell_type": "code",
   "execution_count": null,
   "metadata": {
    "collapsed": true
   },
   "outputs": [],
   "source": []
  }
 ],
 "metadata": {
  "anaconda-cloud": {},
  "kernelspec": {
   "display_name": "Python [default]",
   "language": "python",
   "name": "python3"
  },
  "language_info": {
   "codemirror_mode": {
    "name": "ipython",
    "version": 3
   },
   "file_extension": ".py",
   "mimetype": "text/x-python",
   "name": "python",
   "nbconvert_exporter": "python",
   "pygments_lexer": "ipython3",
   "version": "3.5.2"
  }
 },
 "nbformat": 4,
 "nbformat_minor": 0
}
